{
 "cells": [
  {
   "cell_type": "markdown",
   "metadata": {},
   "source": [
    "# My Jupyter Notebook on IBM Watson Studio"
   ]
  },
  {
   "cell_type": "markdown",
   "metadata": {},
   "source": [
    "**Md Hussain Nagaria**\n",
    "\n",
    "Product Engineer, Frappe"
   ]
  },
  {
   "cell_type": "markdown",
   "metadata": {},
   "source": [
    "*I am interested in data science because it will help me make sense of data that I come across in my day to day job as well as the side business I am going to start soon!*"
   ]
  },
  {
   "cell_type": "markdown",
   "metadata": {},
   "source": [
    "### Calculate the cube of 9"
   ]
  },
  {
   "cell_type": "code",
   "execution_count": 1,
   "metadata": {},
   "outputs": [
    {
     "name": "stdout",
     "output_type": "stream",
     "text": [
      "729\n"
     ]
    }
   ],
   "source": [
    "print(9 ** 3)"
   ]
  },
  {
   "cell_type": "markdown",
   "metadata": {},
   "source": [
    "Today I woke up with the following ToDo list:\n",
    "\n",
    "- Complete data science course **final week**\n",
    "- Fix the homepage for personal ~blog~ website ([link to my website](https://hussain.codes))\n",
    "- Eat oranges\n",
    "\n",
    "---\n",
    "\n",
    "After doing the above, I will continue reading the book 'Do It Today'. It had this great thought:\n",
    "\n",
    "> \"Life is too short to do things you don't enjoy.\"\n",
    "\n",
    "---\n",
    "\n",
    "Here is my list of side projects:\n",
    "\n",
    "1. Idea wallet mobile app\n",
    "2. Shopify Theme for store\n",
    "3. Python Problems E-book design and writing\n",
    "4. Write Quarterly review\n",
    "\n",
    "For entertainment, I am watching this comedy TV series called **Brooklyn Nine-Nine**: \n",
    "\n",
    "![Poster of Brooklyn Nine-Nine](https://i.pinimg.com/originals/52/1d/27/521d271fb4b41a5e19a30de376361a30.jpg)\n",
    "\n",
    "---\n",
    "\n",
    "Again, here is a table of some marks:\n",
    "\n",
    "| Subject       | Mid Term Marks | End Term Marks |\n",
    "|---------------|----------------|----------------|\n",
    "| Databases     | 90             | 95             |\n",
    "| Discrete Math | 100            | 82             |\n",
    "\n",
    "Then some JavaScript code with syntax highlighting:\n",
    "\n",
    "```js\n",
    "\n",
    "const name = \"Hussain Nagaria\";\n",
    "console.log(name);\n",
    "```"
   ]
  },
  {
   "cell_type": "code",
   "execution_count": null,
   "metadata": {},
   "outputs": [],
   "source": []
  }
 ],
 "metadata": {
  "kernelspec": {
   "display_name": "Python",
   "language": "python",
   "name": "conda-env-python-py"
  },
  "language_info": {
   "codemirror_mode": {
    "name": "ipython",
    "version": 3
   },
   "file_extension": ".py",
   "mimetype": "text/x-python",
   "name": "python",
   "nbconvert_exporter": "python",
   "pygments_lexer": "ipython3",
   "version": "3.7.12"
  }
 },
 "nbformat": 4,
 "nbformat_minor": 4
}
